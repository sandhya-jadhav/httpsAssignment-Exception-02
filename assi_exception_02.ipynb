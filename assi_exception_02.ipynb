{
 "cells": [
  {
   "cell_type": "markdown",
   "id": "0db67539-b6ef-4f12-8b6b-c68a3d000909",
   "metadata": {},
   "source": [
    "### Q1. Explain why we have to use the Exception class while creating a Custom Exception.Note: Here Exception class refers to the base class for all the exceptions."
   ]
  },
  {
   "cell_type": "markdown",
   "id": "6995386c-b372-41ff-a862-e4a83013ad02",
   "metadata": {},
   "source": [
    "#### When creating a custom exception in Python, it's important to inherit from the Exception class, which is the base class for all built-in exceptions. This is because the Exception class provides the necessary structure and behavior for handling exceptions, allowing your custom exceptions to integrate seamlessly into Python's exception-handling framework. Reasons to Use the Exception Class:\n",
    "#### Consistent Behavior Across Exceptions:\n",
    "\n",
    "#### The Exception class provides the standard behavior for exceptions, such as storing error messages, stack traces, and other relevant information. By inheriting from Exception, your custom exceptions automatically gain these features, ensuring consistent behavior with other built-in exceptions.\n",
    "#### Compatibility with try and except Blocks:\n",
    "\n",
    "#### Python’s try and except blocks are designed to catch exceptions that inherit from the Exception class. By using Exception as the base class, your custom exceptions can be caught and handled just like any built-in exception, ensuring compatibility with Python’s error-handling mechanisms.\n",
    "#### Maintainability and Readability:\n",
    "\n",
    "#### Inheriting from the Exception class makes your custom exceptions more maintainable and readable. Other developers (or even yourself in the future) will immediately recognize your custom exceptions as legitimate Python exceptions, which enhances code clarity and maintainability.\n",
    "#### Enhanced Debugging and Logging:\n",
    "\n",
    "#### The Exception class provides useful attributes such as args (a tuple of the exception's arguments) and __str__ (a method for returning the string representation of the exception). By inheriting from Exception, your custom exceptions will automatically have these attributes, which can be useful for debugging and logging errors.\n",
    "#### Integration with Built-in Tools:\n",
    "\n",
    "#### Python provides various tools and libraries (e.g., logging, traceback) that work seamlessly with exceptions that inherit from the Exception class. By following this standard, your custom exceptions can be integrated into these tools without additional effort.\n",
    "\n",
    "\n"
   ]
  },
  {
   "cell_type": "code",
   "execution_count": null,
   "id": "07729ddb-352a-4da2-a187-1733dcee26a5",
   "metadata": {},
   "outputs": [],
   "source": [
    "class InvalidAgeError(Exception):\n",
    "    def __init__(self, age, message=\"Age must be between 0 and 150\"):\n",
    "        self.age = age\n",
    "        self.message = message\n",
    "        super().__init__(f\"{message}. You entered: {age}\")\n",
    "\n",
    "def check_age(age):\n",
    "    if age < 0 or age > 150:\n",
    "        raise InvalidAgeError(age)\n",
    "    else:\n",
    "        print(f\"Valid age: {age}\")\n",
    "\n",
    "try:\n",
    "    user_age = int(input(\"Enter your age: \"))\n",
    "    check_age(user_age)\n",
    "except InvalidAgeError as e:\n",
    "    print(e)\n"
   ]
  },
  {
   "cell_type": "markdown",
   "id": "ad76000d-3f20-4602-b48b-deece8a53726",
   "metadata": {},
   "source": [
    "### Q2. Write a python program to print Python Exception Hierarchy."
   ]
  },
  {
   "cell_type": "code",
   "execution_count": null,
   "id": "40d206e5-5aba-4f32-8610-0a183db7b69b",
   "metadata": {},
   "outputs": [],
   "source": [
    "import inspect\n",
    "import builtins\n",
    "\n",
    "def print_exception_hierarchy(cls, indent=0):\n",
    "    \"\"\"Recursively print the inheritance hierarchy of exceptions.\"\"\"\n",
    "    print('  ' * indent + cls.__name__)\n",
    "    for subclass in cls.__subclasses__():\n",
    "        print_exception_hierarchy(subclass, indent + 1)\n",
    "\n",
    "print(\"Python Exception Hierarchy:\")\n",
    "print_exception_hierarchy(Exception)\n"
   ]
  },
  {
   "cell_type": "markdown",
   "id": "d70090f3-03cb-4b81-899d-6ed9d264855e",
   "metadata": {},
   "source": [
    "### Q3. What errors are defined in the ArithmeticError class? Explain any two with an example."
   ]
  },
  {
   "cell_type": "markdown",
   "id": "7e82c81d-5c0e-45b9-834b-9c91066a6be3",
   "metadata": {},
   "source": [
    "### The ArithmeticError class in Python is a base class for exceptions that occur for numeric calculations. It is the superclass of several built-in exceptions related to arithmetic operations. The common errors derived from ArithmeticError include:ZeroDivisionError OverflowErrornFloatingPointError\n"
   ]
  },
  {
   "cell_type": "code",
   "execution_count": null,
   "id": "41f3e147-fe2e-47e4-b644-3ac082566c74",
   "metadata": {},
   "outputs": [],
   "source": [
    "try:\n",
    "    result = 10 / 0\n",
    "except ZeroDivisionError as e:\n",
    "    print(f\"Error: {e}\")\n"
   ]
  },
  {
   "cell_type": "code",
   "execution_count": null,
   "id": "458f0ff1-15f4-4397-8131-5b3785edfd50",
   "metadata": {},
   "outputs": [],
   "source": [
    "import math\n",
    "\n",
    "try:\n",
    "    result = math.exp(1000)\n",
    "except OverflowError as e:\n",
    "    print(f\"Error: {e}\")\n"
   ]
  },
  {
   "cell_type": "markdown",
   "id": "32e0646b-fa45-49ad-b8f2-3ffd75ad0344",
   "metadata": {},
   "source": [
    "### Q4. Why LookupError class is used? Explain with an example KeyError and IndexError."
   ]
  },
  {
   "cell_type": "markdown",
   "id": "1cb182d0-efea-4e7f-82ee-1c5b777c85b7",
   "metadata": {},
   "source": [
    "#### Base Class for Lookup Errors: LookupError provides a common interface for exceptions that involve failed lookups. By inheriting from LookupError, exceptions such as KeyError and IndexError can be caught together when you want to handle any type of lookup failure.Organizational Structure: It helps in organizing exceptions in a structured way, making it easier to catch related exceptions with a single except block if needed."
   ]
  },
  {
   "cell_type": "code",
   "execution_count": null,
   "id": "a7fa5fc1-7fee-479b-841c-abc1913f1e29",
   "metadata": {},
   "outputs": [],
   "source": [
    "my_dict = {'name': 'Alice', 'age': 30}\n",
    "\n",
    "try:\n",
    "    value = my_dict['address']  # Key 'address' does not exist\n",
    "except KeyError as e:\n",
    "    print(f\"KeyError: {e}\")\n"
   ]
  },
  {
   "cell_type": "markdown",
   "id": "fb12062d-faaf-4b59-9a53-01239129f7a4",
   "metadata": {},
   "source": [
    "### Q5. Explain ImportError. What is ModuleNotFoundError?"
   ]
  },
  {
   "cell_type": "markdown",
   "id": "e11231d0-124f-4097-88ca-c82a79af0ea0",
   "metadata": {},
   "source": [
    "#### Two such errors that developers often come across are ModuleNotFoundError and ImportError. In this guide, we’ll explore what these errors are, the common problems associated with them, and provide practical approaches to resolve them.ModuleNotFoundError: This error occurs when Python cannot find the module specified in the import statement. It could be due to the module not being installed or the Python interpreter not being able to locate it in the specified paths.\n",
    "\n"
   ]
  },
  {
   "cell_type": "markdown",
   "id": "e8ee7654-9da6-473a-a076-bdd8e036ad44",
   "metadata": {},
   "source": [
    "### Q6. List down some best practices for exception handling in python."
   ]
  },
  {
   "cell_type": "markdown",
   "id": "72de88de-077c-4daa-93d5-5c245f385e06",
   "metadata": {},
   "source": [
    "#### Catch Specific Exceptions: Avoid broad except blocks; catch specific exceptions.\n",
    "#### Use finally for Cleanup: Ensure resources are released properly with finally.\n",
    "#### Avoid Swallowing Exceptions: Always handle or log exceptions; don’t ignore them.\n",
    "#### Log Exceptions: Use the logging module to track exceptions.\n",
    "#### Use else for Non-Exceptional Code: Place code that runs only if no exception occurs in the else block.\n",
    "#### Raise Clear Exceptions: Provide informative error messages when raising exceptions.\n",
    "#### Create Custom Exceptions: Use custom exceptions for specific error types in complex applications.\n",
    "#### Use Assertions for Debugging: Use assert to catch conditions that should never happen.\n",
    "#### Avoid Using Exceptions for Control Flow: Use exceptions for error handling, not regular control flow.\n",
    "#### Document Exception Behavior: Clearly document which exceptions your functions might raise."
   ]
  },
  {
   "cell_type": "code",
   "execution_count": null,
   "id": "4a8c82dc-2019-4c17-a6e9-9e6f81a6bdff",
   "metadata": {},
   "outputs": [],
   "source": []
  }
 ],
 "metadata": {
  "kernelspec": {
   "display_name": "Python 3 (ipykernel)",
   "language": "python",
   "name": "python3"
  },
  "language_info": {
   "codemirror_mode": {
    "name": "ipython",
    "version": 3
   },
   "file_extension": ".py",
   "mimetype": "text/x-python",
   "name": "python",
   "nbconvert_exporter": "python",
   "pygments_lexer": "ipython3",
   "version": "3.10.8"
  }
 },
 "nbformat": 4,
 "nbformat_minor": 5
}
